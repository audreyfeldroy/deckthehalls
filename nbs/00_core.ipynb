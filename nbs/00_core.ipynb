{
 "cells": [
  {
   "cell_type": "markdown",
   "metadata": {},
   "source": [
    "# core\n",
    "\n",
    "> A merry FastHTML nbdev project that uses Pygments for Christmas joy"
   ]
  },
  {
   "cell_type": "code",
   "execution_count": null,
   "metadata": {},
   "outputs": [],
   "source": [
    "#| default_exp core"
   ]
  },
  {
   "cell_type": "code",
   "execution_count": null,
   "metadata": {},
   "outputs": [],
   "source": [
    "#| hide\n",
    "from nbdev.showdoc import *"
   ]
  },
  {
   "cell_type": "code",
   "execution_count": null,
   "metadata": {},
   "outputs": [],
   "source": [
    "#| export\n",
    "from execnb.nbio import *\n",
    "from fastcore.all import *\n",
    "from fasthtml.common import *\n",
    "from fasthtml.components import show\n",
    "from fasthtml.jupyter import *\n",
    "from inspect import getsource\n",
    "from IPython.display import display, HTML, IFrame\n",
    "from pathlib import Path\n",
    "import pygments\n",
    "from pygments import highlight\n",
    "from pygments.lexers import PythonLexer\n",
    "from pygments.formatters import HtmlFormatter\n",
    "from random import choice"
   ]
  },
  {
   "cell_type": "markdown",
   "metadata": {},
   "source": [
    "## Get All Pygments Styles"
   ]
  },
  {
   "cell_type": "code",
   "execution_count": null,
   "metadata": {},
   "outputs": [],
   "source": [
    "#| export\n",
    "pygstyles = L(pygments.styles.get_all_styles())"
   ]
  },
  {
   "cell_type": "code",
   "execution_count": null,
   "metadata": {},
   "outputs": [
    {
     "name": "stdout",
     "output_type": "stream",
     "text": [
      "['abap', 'algol', 'algol_nu', 'arduino', 'autumn', 'bw', 'borland', 'coffee', 'colorful', 'default', 'dracula', 'emacs', 'friendly_grayscale', 'friendly', 'fruity', 'github-dark', 'gruvbox-dark', 'gruvbox-light', 'igor', 'inkpot', 'lightbulb', 'lilypond', 'lovelace', 'manni', 'material', 'monokai', 'murphy', 'native', 'nord-darker', 'nord', 'one-dark', 'paraiso-dark', 'paraiso-light', 'pastie', 'perldoc', 'rainbow_dash', 'rrt', 'sas', 'solarized-dark', 'solarized-light', 'staroffice', 'stata-dark', 'stata-light', 'tango', 'trac', 'vim', 'vs', 'xcode', 'zenburn']\n"
     ]
    }
   ],
   "source": [
    "print(pygstyles)"
   ]
  },
  {
   "cell_type": "markdown",
   "metadata": {},
   "source": [
    "## From Python to Pygments-Highlighted FastTag"
   ]
  },
  {
   "cell_type": "markdown",
   "metadata": {},
   "source": [
    "To display Python code in a FastHTML app with Pygments formatting, I made this FastTag:"
   ]
  },
  {
   "cell_type": "code",
   "execution_count": null,
   "metadata": {},
   "outputs": [],
   "source": [
    "#| export\n",
    "def PythonToPygmentsFT(c, style='rrt'):\n",
    "    \"Turns Python code into a Pygments syntax-highlighted FastTag\"\n",
    "    fm = HtmlFormatter(style=style, cssclass=style)\n",
    "    h = highlight(c, PythonLexer(), fm)\n",
    "    sd = fm.get_style_defs(f\".{style}\")\n",
    "    return Div(Style(sd), NotStr(h), id=style)"
   ]
  },
  {
   "cell_type": "markdown",
   "metadata": {},
   "source": [
    "It includes the Pygments Python CSS for the style, scoped to a CSS class name that is the style name. That allows you to use it multiple times with different styles in the same page or notebook. See my [Scoped Syntax Highlighting](https://github.com/audreyfeldroy/arg-blog-fasthtml/blob/main/nbs/2024-12-27-Scoped-Syntax-Highlighting.ipynb) blog post for details."
   ]
  },
  {
   "cell_type": "markdown",
   "metadata": {},
   "source": [
    "### Examples"
   ]
  },
  {
   "cell_type": "markdown",
   "metadata": {},
   "source": [
    "Here are a couple FTs created with it. To show a FT in a Jupyter notebook, I use `fasthtml.components.show`:"
   ]
  },
  {
   "cell_type": "code",
   "execution_count": null,
   "metadata": {},
   "outputs": [
    {
     "data": {
      "text/html": [
       "<div id=\"rrt\">\n",
       "  <style>pre { line-height: 125%; }\n",
       "td.linenos .normal { color: inherit; background-color: transparent; padding-left: 5px; padding-right: 5px; }\n",
       "span.linenos { color: inherit; background-color: transparent; padding-left: 5px; padding-right: 5px; }\n",
       "td.linenos .special { color: #000000; background-color: #ffffc0; padding-left: 5px; padding-right: 5px; }\n",
       "span.linenos.special { color: #000000; background-color: #ffffc0; padding-left: 5px; padding-right: 5px; }\n",
       ".rrt .hll { background-color: #0000ff }\n",
       ".rrt { background: #000000; color: #dddddd }\n",
       ".rrt .c { color: #00ff00 } /* Comment */\n",
       ".rrt .err { color: #dddddd } /* Error */\n",
       ".rrt .esc { color: #dddddd } /* Escape */\n",
       ".rrt .g { color: #dddddd } /* Generic */\n",
       ".rrt .k { color: #ff0000 } /* Keyword */\n",
       ".rrt .l { color: #dddddd } /* Literal */\n",
       ".rrt .n { color: #dddddd } /* Name */\n",
       ".rrt .o { color: #dddddd } /* Operator */\n",
       ".rrt .x { color: #dddddd } /* Other */\n",
       ".rrt .p { color: #dddddd } /* Punctuation */\n",
       ".rrt .ch { color: #00ff00 } /* Comment.Hashbang */\n",
       ".rrt .cm { color: #00ff00 } /* Comment.Multiline */\n",
       ".rrt .cp { color: #e5e5e5 } /* Comment.Preproc */\n",
       ".rrt .cpf { color: #00ff00 } /* Comment.PreprocFile */\n",
       ".rrt .c1 { color: #00ff00 } /* Comment.Single */\n",
       ".rrt .cs { color: #00ff00 } /* Comment.Special */\n",
       ".rrt .gd { color: #dddddd } /* Generic.Deleted */\n",
       ".rrt .ge { color: #dddddd } /* Generic.Emph */\n",
       ".rrt .ges { color: #dddddd } /* Generic.EmphStrong */\n",
       ".rrt .gr { color: #dddddd } /* Generic.Error */\n",
       ".rrt .gh { color: #dddddd } /* Generic.Heading */\n",
       ".rrt .gi { color: #dddddd } /* Generic.Inserted */\n",
       ".rrt .go { color: #dddddd } /* Generic.Output */\n",
       ".rrt .gp { color: #dddddd } /* Generic.Prompt */\n",
       ".rrt .gs { color: #dddddd } /* Generic.Strong */\n",
       ".rrt .gu { color: #dddddd } /* Generic.Subheading */\n",
       ".rrt .gt { color: #dddddd } /* Generic.Traceback */\n",
       ".rrt .kc { color: #ff0000 } /* Keyword.Constant */\n",
       ".rrt .kd { color: #ff0000 } /* Keyword.Declaration */\n",
       ".rrt .kn { color: #ff0000 } /* Keyword.Namespace */\n",
       ".rrt .kp { color: #ff0000 } /* Keyword.Pseudo */\n",
       ".rrt .kr { color: #ff0000 } /* Keyword.Reserved */\n",
       ".rrt .kt { color: #ee82ee } /* Keyword.Type */\n",
       ".rrt .ld { color: #dddddd } /* Literal.Date */\n",
       ".rrt .m { color: #ff00ff } /* Literal.Number */\n",
       ".rrt .s { color: #87ceeb } /* Literal.String */\n",
       ".rrt .na { color: #dddddd } /* Name.Attribute */\n",
       ".rrt .nb { color: #dddddd } /* Name.Builtin */\n",
       ".rrt .nc { color: #dddddd } /* Name.Class */\n",
       ".rrt .no { color: #7fffd4 } /* Name.Constant */\n",
       ".rrt .nd { color: #dddddd } /* Name.Decorator */\n",
       ".rrt .ni { color: #dddddd } /* Name.Entity */\n",
       ".rrt .ne { color: #dddddd } /* Name.Exception */\n",
       ".rrt .nf { color: #ffff00 } /* Name.Function */\n",
       ".rrt .nl { color: #dddddd } /* Name.Label */\n",
       ".rrt .nn { color: #dddddd } /* Name.Namespace */\n",
       ".rrt .nx { color: #dddddd } /* Name.Other */\n",
       ".rrt .py { color: #dddddd } /* Name.Property */\n",
       ".rrt .nt { color: #dddddd } /* Name.Tag */\n",
       ".rrt .nv { color: #eedd82 } /* Name.Variable */\n",
       ".rrt .ow { color: #dddddd } /* Operator.Word */\n",
       ".rrt .pm { color: #dddddd } /* Punctuation.Marker */\n",
       ".rrt .w { color: #dddddd } /* Text.Whitespace */\n",
       ".rrt .mb { color: #ff00ff } /* Literal.Number.Bin */\n",
       ".rrt .mf { color: #ff00ff } /* Literal.Number.Float */\n",
       ".rrt .mh { color: #ff00ff } /* Literal.Number.Hex */\n",
       ".rrt .mi { color: #ff00ff } /* Literal.Number.Integer */\n",
       ".rrt .mo { color: #ff00ff } /* Literal.Number.Oct */\n",
       ".rrt .sa { color: #87ceeb } /* Literal.String.Affix */\n",
       ".rrt .sb { color: #87ceeb } /* Literal.String.Backtick */\n",
       ".rrt .sc { color: #87ceeb } /* Literal.String.Char */\n",
       ".rrt .dl { color: #87ceeb } /* Literal.String.Delimiter */\n",
       ".rrt .sd { color: #87ceeb } /* Literal.String.Doc */\n",
       ".rrt .s2 { color: #87ceeb } /* Literal.String.Double */\n",
       ".rrt .se { color: #87ceeb } /* Literal.String.Escape */\n",
       ".rrt .sh { color: #87ceeb } /* Literal.String.Heredoc */\n",
       ".rrt .si { color: #87ceeb } /* Literal.String.Interpol */\n",
       ".rrt .sx { color: #87ceeb } /* Literal.String.Other */\n",
       ".rrt .sr { color: #87ceeb } /* Literal.String.Regex */\n",
       ".rrt .s1 { color: #87ceeb } /* Literal.String.Single */\n",
       ".rrt .ss { color: #87ceeb } /* Literal.String.Symbol */\n",
       ".rrt .bp { color: #dddddd } /* Name.Builtin.Pseudo */\n",
       ".rrt .fm { color: #ffff00 } /* Name.Function.Magic */\n",
       ".rrt .vc { color: #eedd82 } /* Name.Variable.Class */\n",
       ".rrt .vg { color: #eedd82 } /* Name.Variable.Global */\n",
       ".rrt .vi { color: #eedd82 } /* Name.Variable.Instance */\n",
       ".rrt .vm { color: #eedd82 } /* Name.Variable.Magic */\n",
       ".rrt .il { color: #ff00ff } /* Literal.Number.Integer.Long */</style>\n",
       "<div class=\"rrt\"><pre><span></span><span class=\"nb\">print</span><span class=\"p\">(</span><span class=\"s2\">&quot;Hi Uma&quot;</span><span class=\"p\">)</span>\n",
       "</pre></div>\n",
       "</div>\n",
       "<script>if (window.htmx) htmx.process(document.body)</script>"
      ],
      "text/plain": [
       "<IPython.core.display.HTML object>"
      ]
     },
     "metadata": {},
     "output_type": "display_data"
    }
   ],
   "source": [
    "pft = PythonToPygmentsFT('print(\"Hi Uma\")')\n",
    "show(pft)"
   ]
  },
  {
   "cell_type": "code",
   "execution_count": null,
   "metadata": {},
   "outputs": [
    {
     "data": {
      "text/html": [
       "<div id=\"monokai\">\n",
       "  <style>pre { line-height: 125%; }\n",
       "td.linenos .normal { color: inherit; background-color: transparent; padding-left: 5px; padding-right: 5px; }\n",
       "span.linenos { color: inherit; background-color: transparent; padding-left: 5px; padding-right: 5px; }\n",
       "td.linenos .special { color: #000000; background-color: #ffffc0; padding-left: 5px; padding-right: 5px; }\n",
       "span.linenos.special { color: #000000; background-color: #ffffc0; padding-left: 5px; padding-right: 5px; }\n",
       ".monokai .hll { background-color: #49483e }\n",
       ".monokai { background: #272822; color: #f8f8f2 }\n",
       ".monokai .c { color: #959077 } /* Comment */\n",
       ".monokai .err { color: #ed007e; background-color: #1e0010 } /* Error */\n",
       ".monokai .esc { color: #f8f8f2 } /* Escape */\n",
       ".monokai .g { color: #f8f8f2 } /* Generic */\n",
       ".monokai .k { color: #66d9ef } /* Keyword */\n",
       ".monokai .l { color: #ae81ff } /* Literal */\n",
       ".monokai .n { color: #f8f8f2 } /* Name */\n",
       ".monokai .o { color: #ff4689 } /* Operator */\n",
       ".monokai .x { color: #f8f8f2 } /* Other */\n",
       ".monokai .p { color: #f8f8f2 } /* Punctuation */\n",
       ".monokai .ch { color: #959077 } /* Comment.Hashbang */\n",
       ".monokai .cm { color: #959077 } /* Comment.Multiline */\n",
       ".monokai .cp { color: #959077 } /* Comment.Preproc */\n",
       ".monokai .cpf { color: #959077 } /* Comment.PreprocFile */\n",
       ".monokai .c1 { color: #959077 } /* Comment.Single */\n",
       ".monokai .cs { color: #959077 } /* Comment.Special */\n",
       ".monokai .gd { color: #ff4689 } /* Generic.Deleted */\n",
       ".monokai .ge { color: #f8f8f2; font-style: italic } /* Generic.Emph */\n",
       ".monokai .ges { color: #f8f8f2; font-weight: bold; font-style: italic } /* Generic.EmphStrong */\n",
       ".monokai .gr { color: #f8f8f2 } /* Generic.Error */\n",
       ".monokai .gh { color: #f8f8f2 } /* Generic.Heading */\n",
       ".monokai .gi { color: #a6e22e } /* Generic.Inserted */\n",
       ".monokai .go { color: #66d9ef } /* Generic.Output */\n",
       ".monokai .gp { color: #ff4689; font-weight: bold } /* Generic.Prompt */\n",
       ".monokai .gs { color: #f8f8f2; font-weight: bold } /* Generic.Strong */\n",
       ".monokai .gu { color: #959077 } /* Generic.Subheading */\n",
       ".monokai .gt { color: #f8f8f2 } /* Generic.Traceback */\n",
       ".monokai .kc { color: #66d9ef } /* Keyword.Constant */\n",
       ".monokai .kd { color: #66d9ef } /* Keyword.Declaration */\n",
       ".monokai .kn { color: #ff4689 } /* Keyword.Namespace */\n",
       ".monokai .kp { color: #66d9ef } /* Keyword.Pseudo */\n",
       ".monokai .kr { color: #66d9ef } /* Keyword.Reserved */\n",
       ".monokai .kt { color: #66d9ef } /* Keyword.Type */\n",
       ".monokai .ld { color: #e6db74 } /* Literal.Date */\n",
       ".monokai .m { color: #ae81ff } /* Literal.Number */\n",
       ".monokai .s { color: #e6db74 } /* Literal.String */\n",
       ".monokai .na { color: #a6e22e } /* Name.Attribute */\n",
       ".monokai .nb { color: #f8f8f2 } /* Name.Builtin */\n",
       ".monokai .nc { color: #a6e22e } /* Name.Class */\n",
       ".monokai .no { color: #66d9ef } /* Name.Constant */\n",
       ".monokai .nd { color: #a6e22e } /* Name.Decorator */\n",
       ".monokai .ni { color: #f8f8f2 } /* Name.Entity */\n",
       ".monokai .ne { color: #a6e22e } /* Name.Exception */\n",
       ".monokai .nf { color: #a6e22e } /* Name.Function */\n",
       ".monokai .nl { color: #f8f8f2 } /* Name.Label */\n",
       ".monokai .nn { color: #f8f8f2 } /* Name.Namespace */\n",
       ".monokai .nx { color: #a6e22e } /* Name.Other */\n",
       ".monokai .py { color: #f8f8f2 } /* Name.Property */\n",
       ".monokai .nt { color: #ff4689 } /* Name.Tag */\n",
       ".monokai .nv { color: #f8f8f2 } /* Name.Variable */\n",
       ".monokai .ow { color: #ff4689 } /* Operator.Word */\n",
       ".monokai .pm { color: #f8f8f2 } /* Punctuation.Marker */\n",
       ".monokai .w { color: #f8f8f2 } /* Text.Whitespace */\n",
       ".monokai .mb { color: #ae81ff } /* Literal.Number.Bin */\n",
       ".monokai .mf { color: #ae81ff } /* Literal.Number.Float */\n",
       ".monokai .mh { color: #ae81ff } /* Literal.Number.Hex */\n",
       ".monokai .mi { color: #ae81ff } /* Literal.Number.Integer */\n",
       ".monokai .mo { color: #ae81ff } /* Literal.Number.Oct */\n",
       ".monokai .sa { color: #e6db74 } /* Literal.String.Affix */\n",
       ".monokai .sb { color: #e6db74 } /* Literal.String.Backtick */\n",
       ".monokai .sc { color: #e6db74 } /* Literal.String.Char */\n",
       ".monokai .dl { color: #e6db74 } /* Literal.String.Delimiter */\n",
       ".monokai .sd { color: #e6db74 } /* Literal.String.Doc */\n",
       ".monokai .s2 { color: #e6db74 } /* Literal.String.Double */\n",
       ".monokai .se { color: #ae81ff } /* Literal.String.Escape */\n",
       ".monokai .sh { color: #e6db74 } /* Literal.String.Heredoc */\n",
       ".monokai .si { color: #e6db74 } /* Literal.String.Interpol */\n",
       ".monokai .sx { color: #e6db74 } /* Literal.String.Other */\n",
       ".monokai .sr { color: #e6db74 } /* Literal.String.Regex */\n",
       ".monokai .s1 { color: #e6db74 } /* Literal.String.Single */\n",
       ".monokai .ss { color: #e6db74 } /* Literal.String.Symbol */\n",
       ".monokai .bp { color: #f8f8f2 } /* Name.Builtin.Pseudo */\n",
       ".monokai .fm { color: #a6e22e } /* Name.Function.Magic */\n",
       ".monokai .vc { color: #f8f8f2 } /* Name.Variable.Class */\n",
       ".monokai .vg { color: #f8f8f2 } /* Name.Variable.Global */\n",
       ".monokai .vi { color: #f8f8f2 } /* Name.Variable.Instance */\n",
       ".monokai .vm { color: #f8f8f2 } /* Name.Variable.Magic */\n",
       ".monokai .il { color: #ae81ff } /* Literal.Number.Integer.Long */</style>\n",
       "<div class=\"monokai\"><pre><span></span><span class=\"k\">def</span> <span class=\"nf\">PythonToPygmentsFT</span><span class=\"p\">(</span><span class=\"n\">c</span><span class=\"p\">,</span> <span class=\"n\">style</span><span class=\"o\">=</span><span class=\"s1\">&#39;rrt&#39;</span><span class=\"p\">):</span>\n",
       "    <span class=\"s2\">&quot;Turns Python code into a Pygments syntax-highlighted FastTag&quot;</span>\n",
       "    <span class=\"n\">fm</span> <span class=\"o\">=</span> <span class=\"n\">HtmlFormatter</span><span class=\"p\">(</span><span class=\"n\">style</span><span class=\"o\">=</span><span class=\"n\">style</span><span class=\"p\">,</span> <span class=\"n\">cssclass</span><span class=\"o\">=</span><span class=\"n\">style</span><span class=\"p\">)</span>\n",
       "    <span class=\"n\">h</span> <span class=\"o\">=</span> <span class=\"n\">highlight</span><span class=\"p\">(</span><span class=\"n\">c</span><span class=\"p\">,</span> <span class=\"n\">PythonLexer</span><span class=\"p\">(),</span> <span class=\"n\">fm</span><span class=\"p\">)</span>\n",
       "    <span class=\"n\">sd</span> <span class=\"o\">=</span> <span class=\"n\">fm</span><span class=\"o\">.</span><span class=\"n\">get_style_defs</span><span class=\"p\">(</span><span class=\"sa\">f</span><span class=\"s2\">&quot;.</span><span class=\"si\">{</span><span class=\"n\">style</span><span class=\"si\">}</span><span class=\"s2\">&quot;</span><span class=\"p\">)</span>\n",
       "    <span class=\"k\">return</span> <span class=\"n\">Div</span><span class=\"p\">(</span><span class=\"n\">Style</span><span class=\"p\">(</span><span class=\"n\">sd</span><span class=\"p\">),</span> <span class=\"n\">NotStr</span><span class=\"p\">(</span><span class=\"n\">h</span><span class=\"p\">),</span> <span class=\"nb\">id</span><span class=\"o\">=</span><span class=\"n\">style</span><span class=\"p\">)</span>\n",
       "</pre></div>\n",
       "</div>\n",
       "<script>if (window.htmx) htmx.process(document.body)</script>"
      ],
      "text/plain": [
       "<IPython.core.display.HTML object>"
      ]
     },
     "metadata": {},
     "output_type": "display_data"
    }
   ],
   "source": [
    "pft = PythonToPygmentsFT(getsource(PythonToPygmentsFT), style=\"monokai\")\n",
    "show(pft)"
   ]
  },
  {
   "cell_type": "markdown",
   "metadata": {},
   "source": [
    "## Highlight a Selected Notebook Cell"
   ]
  },
  {
   "cell_type": "markdown",
   "metadata": {},
   "source": [
    "Let's highlight a cell of this notebook."
   ]
  },
  {
   "cell_type": "code",
   "execution_count": null,
   "metadata": {},
   "outputs": [
    {
     "data": {
      "text/markdown": [
       "```json\n",
       "{ 'cell_type': 'code',\n",
       "  'execution_count': None,\n",
       "  'idx_': 5,\n",
       "  'metadata': {},\n",
       "  'outputs': [],\n",
       "  'source': '#| export\\npygstyles = L(pygments.styles.get_all_styles())'}\n",
       "```"
      ],
      "text/plain": [
       "{'cell_type': 'code',\n",
       " 'execution_count': None,\n",
       " 'metadata': {},\n",
       " 'outputs': [],\n",
       " 'source': '#| export\\npygstyles = L(pygments.styles.get_all_styles())',\n",
       " 'idx_': 5}"
      ]
     },
     "execution_count": null,
     "metadata": {},
     "output_type": "execute_result"
    }
   ],
   "source": [
    "nb = read_nb(Path(\"00_core.ipynb\"))\n",
    "c = nb.cells[5]\n",
    "c"
   ]
  },
  {
   "cell_type": "code",
   "execution_count": null,
   "metadata": {},
   "outputs": [
    {
     "data": {
      "text/html": [
       "<div id=\"dracula\">\n",
       "  <style>pre { line-height: 125%; }\n",
       "td.linenos .normal { color: #f1fa8c; background-color: #44475a; padding-left: 5px; padding-right: 5px; }\n",
       "span.linenos { color: #f1fa8c; background-color: #44475a; padding-left: 5px; padding-right: 5px; }\n",
       "td.linenos .special { color: #50fa7b; background-color: #6272a4; padding-left: 5px; padding-right: 5px; }\n",
       "span.linenos.special { color: #50fa7b; background-color: #6272a4; padding-left: 5px; padding-right: 5px; }\n",
       ".dracula .hll { background-color: #44475a }\n",
       ".dracula { background: #282a36; color: #f8f8f2 }\n",
       ".dracula .c { color: #6272a4 } /* Comment */\n",
       ".dracula .err { color: #f8f8f2 } /* Error */\n",
       ".dracula .g { color: #f8f8f2 } /* Generic */\n",
       ".dracula .k { color: #ff79c6 } /* Keyword */\n",
       ".dracula .l { color: #f8f8f2 } /* Literal */\n",
       ".dracula .n { color: #f8f8f2 } /* Name */\n",
       ".dracula .o { color: #ff79c6 } /* Operator */\n",
       ".dracula .x { color: #f8f8f2 } /* Other */\n",
       ".dracula .p { color: #f8f8f2 } /* Punctuation */\n",
       ".dracula .ch { color: #6272a4 } /* Comment.Hashbang */\n",
       ".dracula .cm { color: #6272a4 } /* Comment.Multiline */\n",
       ".dracula .cp { color: #ff79c6 } /* Comment.Preproc */\n",
       ".dracula .cpf { color: #6272a4 } /* Comment.PreprocFile */\n",
       ".dracula .c1 { color: #6272a4 } /* Comment.Single */\n",
       ".dracula .cs { color: #6272a4 } /* Comment.Special */\n",
       ".dracula .gd { color: #8b080b } /* Generic.Deleted */\n",
       ".dracula .ge { color: #f8f8f2; text-decoration: underline } /* Generic.Emph */\n",
       ".dracula .ges { color: #f8f8f2; text-decoration: underline } /* Generic.EmphStrong */\n",
       ".dracula .gr { color: #f8f8f2 } /* Generic.Error */\n",
       ".dracula .gh { color: #f8f8f2; font-weight: bold } /* Generic.Heading */\n",
       ".dracula .gi { color: #f8f8f2; font-weight: bold } /* Generic.Inserted */\n",
       ".dracula .go { color: #44475a } /* Generic.Output */\n",
       ".dracula .gp { color: #f8f8f2 } /* Generic.Prompt */\n",
       ".dracula .gs { color: #f8f8f2 } /* Generic.Strong */\n",
       ".dracula .gu { color: #f8f8f2; font-weight: bold } /* Generic.Subheading */\n",
       ".dracula .gt { color: #f8f8f2 } /* Generic.Traceback */\n",
       ".dracula .kc { color: #ff79c6 } /* Keyword.Constant */\n",
       ".dracula .kd { color: #8be9fd; font-style: italic } /* Keyword.Declaration */\n",
       ".dracula .kn { color: #ff79c6 } /* Keyword.Namespace */\n",
       ".dracula .kp { color: #ff79c6 } /* Keyword.Pseudo */\n",
       ".dracula .kr { color: #ff79c6 } /* Keyword.Reserved */\n",
       ".dracula .kt { color: #8be9fd } /* Keyword.Type */\n",
       ".dracula .ld { color: #f8f8f2 } /* Literal.Date */\n",
       ".dracula .m { color: #ffb86c } /* Literal.Number */\n",
       ".dracula .s { color: #bd93f9 } /* Literal.String */\n",
       ".dracula .na { color: #50fa7b } /* Name.Attribute */\n",
       ".dracula .nb { color: #8be9fd; font-style: italic } /* Name.Builtin */\n",
       ".dracula .nc { color: #50fa7b } /* Name.Class */\n",
       ".dracula .no { color: #f8f8f2 } /* Name.Constant */\n",
       ".dracula .nd { color: #f8f8f2 } /* Name.Decorator */\n",
       ".dracula .ni { color: #f8f8f2 } /* Name.Entity */\n",
       ".dracula .ne { color: #f8f8f2 } /* Name.Exception */\n",
       ".dracula .nf { color: #50fa7b } /* Name.Function */\n",
       ".dracula .nl { color: #8be9fd; font-style: italic } /* Name.Label */\n",
       ".dracula .nn { color: #f8f8f2 } /* Name.Namespace */\n",
       ".dracula .nx { color: #f8f8f2 } /* Name.Other */\n",
       ".dracula .py { color: #f8f8f2 } /* Name.Property */\n",
       ".dracula .nt { color: #ff79c6 } /* Name.Tag */\n",
       ".dracula .nv { color: #8be9fd; font-style: italic } /* Name.Variable */\n",
       ".dracula .ow { color: #ff79c6 } /* Operator.Word */\n",
       ".dracula .pm { color: #f8f8f2 } /* Punctuation.Marker */\n",
       ".dracula .w { color: #f8f8f2 } /* Text.Whitespace */\n",
       ".dracula .mb { color: #ffb86c } /* Literal.Number.Bin */\n",
       ".dracula .mf { color: #ffb86c } /* Literal.Number.Float */\n",
       ".dracula .mh { color: #ffb86c } /* Literal.Number.Hex */\n",
       ".dracula .mi { color: #ffb86c } /* Literal.Number.Integer */\n",
       ".dracula .mo { color: #ffb86c } /* Literal.Number.Oct */\n",
       ".dracula .sa { color: #bd93f9 } /* Literal.String.Affix */\n",
       ".dracula .sb { color: #bd93f9 } /* Literal.String.Backtick */\n",
       ".dracula .sc { color: #bd93f9 } /* Literal.String.Char */\n",
       ".dracula .dl { color: #bd93f9 } /* Literal.String.Delimiter */\n",
       ".dracula .sd { color: #bd93f9 } /* Literal.String.Doc */\n",
       ".dracula .s2 { color: #bd93f9 } /* Literal.String.Double */\n",
       ".dracula .se { color: #bd93f9 } /* Literal.String.Escape */\n",
       ".dracula .sh { color: #bd93f9 } /* Literal.String.Heredoc */\n",
       ".dracula .si { color: #bd93f9 } /* Literal.String.Interpol */\n",
       ".dracula .sx { color: #bd93f9 } /* Literal.String.Other */\n",
       ".dracula .sr { color: #bd93f9 } /* Literal.String.Regex */\n",
       ".dracula .s1 { color: #bd93f9 } /* Literal.String.Single */\n",
       ".dracula .ss { color: #bd93f9 } /* Literal.String.Symbol */\n",
       ".dracula .bp { color: #f8f8f2; font-style: italic } /* Name.Builtin.Pseudo */\n",
       ".dracula .fm { color: #50fa7b } /* Name.Function.Magic */\n",
       ".dracula .vc { color: #8be9fd; font-style: italic } /* Name.Variable.Class */\n",
       ".dracula .vg { color: #8be9fd; font-style: italic } /* Name.Variable.Global */\n",
       ".dracula .vi { color: #8be9fd; font-style: italic } /* Name.Variable.Instance */\n",
       ".dracula .vm { color: #8be9fd; font-style: italic } /* Name.Variable.Magic */\n",
       ".dracula .il { color: #ffb86c } /* Literal.Number.Integer.Long */</style>\n",
       "<div class=\"dracula\"><pre><span></span><span class=\"c1\">#| export</span>\n",
       "<span class=\"n\">pygstyles</span> <span class=\"o\">=</span> <span class=\"n\">L</span><span class=\"p\">(</span><span class=\"n\">pygments</span><span class=\"o\">.</span><span class=\"n\">styles</span><span class=\"o\">.</span><span class=\"n\">get_all_styles</span><span class=\"p\">())</span>\n",
       "</pre></div>\n",
       "</div>\n",
       "<script>if (window.htmx) htmx.process(document.body)</script>"
      ],
      "text/plain": [
       "<IPython.core.display.HTML object>"
      ]
     },
     "metadata": {},
     "output_type": "display_data"
    }
   ],
   "source": [
    "show(PythonToPygmentsFT(c.source, style='dracula'))"
   ]
  },
  {
   "cell_type": "markdown",
   "metadata": {},
   "source": [
    "## Get Code Cells of a Notebook"
   ]
  },
  {
   "cell_type": "markdown",
   "metadata": {},
   "source": [
    "This section is all about throwing away non-code cells.\n",
    "\n",
    "> Imagine those elves from Advent of Code doing whatever they want to a notebook"
   ]
  },
  {
   "cell_type": "code",
   "execution_count": null,
   "metadata": {},
   "outputs": [],
   "source": [
    "#| export\n",
    "def is_code_cell(c): return c.cell_type == 'code'"
   ]
  },
  {
   "cell_type": "code",
   "execution_count": null,
   "metadata": {},
   "outputs": [
    {
     "data": {
      "text/plain": [
       "(#2) ['#| default_exp core','#| hide\\nfrom nbdev.showdoc import *']"
      ]
     },
     "execution_count": null,
     "metadata": {},
     "output_type": "execute_result"
    }
   ],
   "source": [
    "L(nb.cells).filter(is_code_cell).itemgot('source')[:2]"
   ]
  },
  {
   "cell_type": "code",
   "execution_count": null,
   "metadata": {},
   "outputs": [],
   "source": [
    "#| export\n",
    "def get_code_cells(nb): return L(nb.cells).filter(is_code_cell).itemgot('source')"
   ]
  },
  {
   "cell_type": "code",
   "execution_count": null,
   "metadata": {},
   "outputs": [
    {
     "data": {
      "text/plain": [
       "(#27) ['#| default_exp core','#| hide\\nfrom nbdev.showdoc import *','#| export\\nfrom execnb.nbio import *\\nfrom fastcore.all import *\\nfrom fasthtml.common import *\\nfrom fasthtml.components import show\\nfrom fasthtml.jupyter import *\\nfrom inspect import getsource\\nfrom IPython.display import display, HTML, IFrame\\nfrom pathlib import Path\\nimport pygments\\nfrom pygments import highlight\\nfrom pygments.lexers import PythonLexer\\nfrom pygments.formatters import HtmlFormatter\\nfrom random import choice','#| export\\npygstyles = L(pygments.styles.get_all_styles())','print(pygstyles)','#| export\\ndef PythonToPygmentsFT(c, style=\\'rrt\\'):\\n    \"Turns Python code into a Pygments syntax-highlighted FastTag\"\\n    fm = HtmlFormatter(style=style, cssclass=style)\\n    h = highlight(c, PythonLexer(), fm)\\n    sd = fm.get_style_defs(f\".{style}\")\\n    return Div(Style(sd), NotStr(h), id=style)','pft = PythonToPygmentsFT(\\'print(\"Hi Uma\")\\')\\nshow(pft)','pft = PythonToPygmentsFT(getsource(PythonToPygmentsFT), style=\"monokai\")\\nshow(pft)','nb = read_nb(Path(\"00_core.ipynb\"))\\nc = nb.cells[5]\\nc',\"show(PythonToPygmentsFT(c.source, style='dracula'))\",\"#| export\\ndef is_code_cell(c): return c.cell_type == 'code'\",\"L(nb.cells).filter(is_code_cell).itemgot('source')[:2]\",\"#| export\\ndef get_code_cells(nb): return L(nb.cells).filter(is_code_cell).itemgot('source')\",'get_code_cells(nb)','#| export\\ndef NotebookToPygmentsFT(nb, style=\\'rrt\\'):\\n    \"Warning: This gets only code cells, without their output or any other cells\"\\n    cells = get_code_cells(nb)\\n    return cells.map(partial(PythonToPygmentsFT, style=style))','# show(Div(*NotebookToPygmentsFT(nb)))','#| export\\ndef PythonToRandomPygmentsFT(c,print_style=True): \\n    style = choice(pygstyles)\\n    result = PythonToPygmentsFT(c, style=style)\\n    if print_style:\\n        result = Div(f\"Pygments style: {style}\", result)\\n    return result','pft = PythonToRandomPygmentsFT(\\'print(\"Hi Uma\")\\', print_style=False)\\nshow(pft)','pft = PythonToRandomPygmentsFT(\\'print(\"Hi Uma\")\\', print_style=True)\\nshow(pft)','#| export\\ndef NotebookToRandomPygmentsFT(nb):\\n    \"Warning: This gets only code cells, without their output or any other cells\"\\n    cells = get_code_cells(nb)\\n    return cells.map(PythonToRandomPygmentsFT)'...]"
      ]
     },
     "execution_count": null,
     "metadata": {},
     "output_type": "execute_result"
    }
   ],
   "source": [
    "get_code_cells(nb)"
   ]
  },
  {
   "cell_type": "markdown",
   "metadata": {},
   "source": [
    "## Highlight Code Cells of a Notebook"
   ]
  },
  {
   "cell_type": "markdown",
   "metadata": {},
   "source": [
    "This is sort of like a toy version of nb2fasthtml's highly-customizable [render_nb](https://answerdotai.github.io/nb2fasthtml/core.html#render_nb) that throws away Markdown cells and code cell output:"
   ]
  },
  {
   "cell_type": "code",
   "execution_count": null,
   "metadata": {},
   "outputs": [],
   "source": [
    "#| export\n",
    "def NotebookToPygmentsFT(nb, style='rrt'):\n",
    "    \"Warning: This gets only code cells, without their output or any other cells\"\n",
    "    cells = get_code_cells(nb)\n",
    "    return cells.map(partial(PythonToPygmentsFT, style=style))"
   ]
  },
  {
   "cell_type": "markdown",
   "metadata": {},
   "source": [
    "To see what it does, uncomment this:"
   ]
  },
  {
   "cell_type": "code",
   "execution_count": null,
   "metadata": {},
   "outputs": [],
   "source": [
    "# show(Div(*NotebookToPygmentsFT(nb)))"
   ]
  },
  {
   "cell_type": "markdown",
   "metadata": {},
   "source": [
    "## Highlight Each Notebook Cell Randomly"
   ]
  },
  {
   "cell_type": "code",
   "execution_count": null,
   "metadata": {},
   "outputs": [],
   "source": [
    "#| export\n",
    "def PythonToRandomPygmentsFT(c,print_style=True): \n",
    "    style = choice(pygstyles)\n",
    "    result = PythonToPygmentsFT(c, style=style)\n",
    "    if print_style:\n",
    "        result = Div(f\"Pygments style: {style}\", result)\n",
    "    return result"
   ]
  },
  {
   "cell_type": "code",
   "execution_count": null,
   "metadata": {},
   "outputs": [
    {
     "data": {
      "text/html": [
       "<div id=\"lovelace\">\n",
       "  <style>pre { line-height: 125%; }\n",
       "td.linenos .normal { color: inherit; background-color: transparent; padding-left: 5px; padding-right: 5px; }\n",
       "span.linenos { color: inherit; background-color: transparent; padding-left: 5px; padding-right: 5px; }\n",
       "td.linenos .special { color: #000000; background-color: #ffffc0; padding-left: 5px; padding-right: 5px; }\n",
       "span.linenos.special { color: #000000; background-color: #ffffc0; padding-left: 5px; padding-right: 5px; }\n",
       ".lovelace .hll { background-color: #ffffcc }\n",
       ".lovelace { background: #ffffff; }\n",
       ".lovelace .c { color: #888888; font-style: italic } /* Comment */\n",
       ".lovelace .err { background-color: #a848a8 } /* Error */\n",
       ".lovelace .k { color: #2838b0 } /* Keyword */\n",
       ".lovelace .o { color: #666666 } /* Operator */\n",
       ".lovelace .p { color: #888888 } /* Punctuation */\n",
       ".lovelace .ch { color: #287088; font-style: italic } /* Comment.Hashbang */\n",
       ".lovelace .cm { color: #888888; font-style: italic } /* Comment.Multiline */\n",
       ".lovelace .cp { color: #289870 } /* Comment.Preproc */\n",
       ".lovelace .cpf { color: #888888; font-style: italic } /* Comment.PreprocFile */\n",
       ".lovelace .c1 { color: #888888; font-style: italic } /* Comment.Single */\n",
       ".lovelace .cs { color: #888888; font-style: italic } /* Comment.Special */\n",
       ".lovelace .gd { color: #c02828 } /* Generic.Deleted */\n",
       ".lovelace .ge { font-style: italic } /* Generic.Emph */\n",
       ".lovelace .ges { font-weight: bold; font-style: italic } /* Generic.EmphStrong */\n",
       ".lovelace .gr { color: #c02828 } /* Generic.Error */\n",
       ".lovelace .gh { color: #666666 } /* Generic.Heading */\n",
       ".lovelace .gi { color: #388038 } /* Generic.Inserted */\n",
       ".lovelace .go { color: #666666 } /* Generic.Output */\n",
       ".lovelace .gp { color: #444444 } /* Generic.Prompt */\n",
       ".lovelace .gs { font-weight: bold } /* Generic.Strong */\n",
       ".lovelace .gu { color: #444444 } /* Generic.Subheading */\n",
       ".lovelace .gt { color: #2838b0 } /* Generic.Traceback */\n",
       ".lovelace .kc { color: #444444; font-style: italic } /* Keyword.Constant */\n",
       ".lovelace .kd { color: #2838b0; font-style: italic } /* Keyword.Declaration */\n",
       ".lovelace .kn { color: #2838b0 } /* Keyword.Namespace */\n",
       ".lovelace .kp { color: #2838b0 } /* Keyword.Pseudo */\n",
       ".lovelace .kr { color: #2838b0 } /* Keyword.Reserved */\n",
       ".lovelace .kt { color: #2838b0; font-style: italic } /* Keyword.Type */\n",
       ".lovelace .m { color: #444444 } /* Literal.Number */\n",
       ".lovelace .s { color: #b83838 } /* Literal.String */\n",
       ".lovelace .na { color: #388038 } /* Name.Attribute */\n",
       ".lovelace .nb { color: #388038 } /* Name.Builtin */\n",
       ".lovelace .nc { color: #287088 } /* Name.Class */\n",
       ".lovelace .no { color: #b85820 } /* Name.Constant */\n",
       ".lovelace .nd { color: #287088 } /* Name.Decorator */\n",
       ".lovelace .ni { color: #709030 } /* Name.Entity */\n",
       ".lovelace .ne { color: #908828 } /* Name.Exception */\n",
       ".lovelace .nf { color: #785840 } /* Name.Function */\n",
       ".lovelace .nl { color: #289870 } /* Name.Label */\n",
       ".lovelace .nn { color: #289870 } /* Name.Namespace */\n",
       ".lovelace .nt { color: #2838b0 } /* Name.Tag */\n",
       ".lovelace .nv { color: #b04040 } /* Name.Variable */\n",
       ".lovelace .ow { color: #a848a8 } /* Operator.Word */\n",
       ".lovelace .pm { color: #888888 } /* Punctuation.Marker */\n",
       ".lovelace .w { color: #a89028 } /* Text.Whitespace */\n",
       ".lovelace .mb { color: #444444 } /* Literal.Number.Bin */\n",
       ".lovelace .mf { color: #444444 } /* Literal.Number.Float */\n",
       ".lovelace .mh { color: #444444 } /* Literal.Number.Hex */\n",
       ".lovelace .mi { color: #444444 } /* Literal.Number.Integer */\n",
       ".lovelace .mo { color: #444444 } /* Literal.Number.Oct */\n",
       ".lovelace .sa { color: #444444 } /* Literal.String.Affix */\n",
       ".lovelace .sb { color: #b83838 } /* Literal.String.Backtick */\n",
       ".lovelace .sc { color: #a848a8 } /* Literal.String.Char */\n",
       ".lovelace .dl { color: #b85820 } /* Literal.String.Delimiter */\n",
       ".lovelace .sd { color: #b85820; font-style: italic } /* Literal.String.Doc */\n",
       ".lovelace .s2 { color: #b83838 } /* Literal.String.Double */\n",
       ".lovelace .se { color: #709030 } /* Literal.String.Escape */\n",
       ".lovelace .sh { color: #b83838 } /* Literal.String.Heredoc */\n",
       ".lovelace .si { color: #b83838; text-decoration: underline } /* Literal.String.Interpol */\n",
       ".lovelace .sx { color: #a848a8 } /* Literal.String.Other */\n",
       ".lovelace .sr { color: #a848a8 } /* Literal.String.Regex */\n",
       ".lovelace .s1 { color: #b83838 } /* Literal.String.Single */\n",
       ".lovelace .ss { color: #b83838 } /* Literal.String.Symbol */\n",
       ".lovelace .bp { color: #388038; font-style: italic } /* Name.Builtin.Pseudo */\n",
       ".lovelace .fm { color: #b85820 } /* Name.Function.Magic */\n",
       ".lovelace .vc { color: #b04040 } /* Name.Variable.Class */\n",
       ".lovelace .vg { color: #908828 } /* Name.Variable.Global */\n",
       ".lovelace .vi { color: #b04040 } /* Name.Variable.Instance */\n",
       ".lovelace .vm { color: #b85820 } /* Name.Variable.Magic */\n",
       ".lovelace .il { color: #444444 } /* Literal.Number.Integer.Long */</style>\n",
       "<div class=\"lovelace\"><pre><span></span><span class=\"nb\">print</span><span class=\"p\">(</span><span class=\"s2\">&quot;Hi Uma&quot;</span><span class=\"p\">)</span>\n",
       "</pre></div>\n",
       "</div>\n",
       "<script>if (window.htmx) htmx.process(document.body)</script>"
      ],
      "text/plain": [
       "<IPython.core.display.HTML object>"
      ]
     },
     "metadata": {},
     "output_type": "display_data"
    }
   ],
   "source": [
    "pft = PythonToRandomPygmentsFT('print(\"Hi Uma\")', print_style=False)\n",
    "show(pft)"
   ]
  },
  {
   "cell_type": "code",
   "execution_count": null,
   "metadata": {},
   "outputs": [
    {
     "data": {
      "text/html": [
       "<div>\n",
       "Pygments style: autumn  <div id=\"autumn\">\n",
       "    <style>pre { line-height: 125%; }\n",
       "td.linenos .normal { color: inherit; background-color: transparent; padding-left: 5px; padding-right: 5px; }\n",
       "span.linenos { color: inherit; background-color: transparent; padding-left: 5px; padding-right: 5px; }\n",
       "td.linenos .special { color: #000000; background-color: #ffffc0; padding-left: 5px; padding-right: 5px; }\n",
       "span.linenos.special { color: #000000; background-color: #ffffc0; padding-left: 5px; padding-right: 5px; }\n",
       ".autumn .hll { background-color: #ffffcc }\n",
       ".autumn { background: #ffffff; }\n",
       ".autumn .c { color: #aaaaaa; font-style: italic } /* Comment */\n",
       ".autumn .err { color: #FF0000; background-color: #FFAAAA } /* Error */\n",
       ".autumn .k { color: #0000aa } /* Keyword */\n",
       ".autumn .ch { color: #aaaaaa; font-style: italic } /* Comment.Hashbang */\n",
       ".autumn .cm { color: #aaaaaa; font-style: italic } /* Comment.Multiline */\n",
       ".autumn .cp { color: #4c8317 } /* Comment.Preproc */\n",
       ".autumn .cpf { color: #aaaaaa; font-style: italic } /* Comment.PreprocFile */\n",
       ".autumn .c1 { color: #aaaaaa; font-style: italic } /* Comment.Single */\n",
       ".autumn .cs { color: #0000aa; font-style: italic } /* Comment.Special */\n",
       ".autumn .gd { color: #aa0000 } /* Generic.Deleted */\n",
       ".autumn .ge { font-style: italic } /* Generic.Emph */\n",
       ".autumn .ges { font-weight: bold; font-style: italic } /* Generic.EmphStrong */\n",
       ".autumn .gr { color: #aa0000 } /* Generic.Error */\n",
       ".autumn .gh { color: #000080; font-weight: bold } /* Generic.Heading */\n",
       ".autumn .gi { color: #00aa00 } /* Generic.Inserted */\n",
       ".autumn .go { color: #888888 } /* Generic.Output */\n",
       ".autumn .gp { color: #555555 } /* Generic.Prompt */\n",
       ".autumn .gs { font-weight: bold } /* Generic.Strong */\n",
       ".autumn .gu { color: #800080; font-weight: bold } /* Generic.Subheading */\n",
       ".autumn .gt { color: #aa0000 } /* Generic.Traceback */\n",
       ".autumn .kc { color: #0000aa } /* Keyword.Constant */\n",
       ".autumn .kd { color: #0000aa } /* Keyword.Declaration */\n",
       ".autumn .kn { color: #0000aa } /* Keyword.Namespace */\n",
       ".autumn .kp { color: #0000aa } /* Keyword.Pseudo */\n",
       ".autumn .kr { color: #0000aa } /* Keyword.Reserved */\n",
       ".autumn .kt { color: #00aaaa } /* Keyword.Type */\n",
       ".autumn .m { color: #009999 } /* Literal.Number */\n",
       ".autumn .s { color: #aa5500 } /* Literal.String */\n",
       ".autumn .na { color: #1e90ff } /* Name.Attribute */\n",
       ".autumn .nb { color: #00aaaa } /* Name.Builtin */\n",
       ".autumn .nc { color: #00aa00; text-decoration: underline } /* Name.Class */\n",
       ".autumn .no { color: #aa0000 } /* Name.Constant */\n",
       ".autumn .nd { color: #888888 } /* Name.Decorator */\n",
       ".autumn .ni { color: #880000; font-weight: bold } /* Name.Entity */\n",
       ".autumn .nf { color: #00aa00 } /* Name.Function */\n",
       ".autumn .nn { color: #00aaaa; text-decoration: underline } /* Name.Namespace */\n",
       ".autumn .nt { color: #1e90ff; font-weight: bold } /* Name.Tag */\n",
       ".autumn .nv { color: #aa0000 } /* Name.Variable */\n",
       ".autumn .ow { color: #0000aa } /* Operator.Word */\n",
       ".autumn .w { color: #bbbbbb } /* Text.Whitespace */\n",
       ".autumn .mb { color: #009999 } /* Literal.Number.Bin */\n",
       ".autumn .mf { color: #009999 } /* Literal.Number.Float */\n",
       ".autumn .mh { color: #009999 } /* Literal.Number.Hex */\n",
       ".autumn .mi { color: #009999 } /* Literal.Number.Integer */\n",
       ".autumn .mo { color: #009999 } /* Literal.Number.Oct */\n",
       ".autumn .sa { color: #aa5500 } /* Literal.String.Affix */\n",
       ".autumn .sb { color: #aa5500 } /* Literal.String.Backtick */\n",
       ".autumn .sc { color: #aa5500 } /* Literal.String.Char */\n",
       ".autumn .dl { color: #aa5500 } /* Literal.String.Delimiter */\n",
       ".autumn .sd { color: #aa5500 } /* Literal.String.Doc */\n",
       ".autumn .s2 { color: #aa5500 } /* Literal.String.Double */\n",
       ".autumn .se { color: #aa5500 } /* Literal.String.Escape */\n",
       ".autumn .sh { color: #aa5500 } /* Literal.String.Heredoc */\n",
       ".autumn .si { color: #aa5500 } /* Literal.String.Interpol */\n",
       ".autumn .sx { color: #aa5500 } /* Literal.String.Other */\n",
       ".autumn .sr { color: #009999 } /* Literal.String.Regex */\n",
       ".autumn .s1 { color: #aa5500 } /* Literal.String.Single */\n",
       ".autumn .ss { color: #0000aa } /* Literal.String.Symbol */\n",
       ".autumn .bp { color: #00aaaa } /* Name.Builtin.Pseudo */\n",
       ".autumn .fm { color: #00aa00 } /* Name.Function.Magic */\n",
       ".autumn .vc { color: #aa0000 } /* Name.Variable.Class */\n",
       ".autumn .vg { color: #aa0000 } /* Name.Variable.Global */\n",
       ".autumn .vi { color: #aa0000 } /* Name.Variable.Instance */\n",
       ".autumn .vm { color: #aa0000 } /* Name.Variable.Magic */\n",
       ".autumn .il { color: #009999 } /* Literal.Number.Integer.Long */</style>\n",
       "<div class=\"autumn\"><pre><span></span><span class=\"nb\">print</span><span class=\"p\">(</span><span class=\"s2\">&quot;Hi Uma&quot;</span><span class=\"p\">)</span>\n",
       "</pre></div>\n",
       "  </div>\n",
       "</div>\n",
       "<script>if (window.htmx) htmx.process(document.body)</script>"
      ],
      "text/plain": [
       "<IPython.core.display.HTML object>"
      ]
     },
     "metadata": {},
     "output_type": "display_data"
    }
   ],
   "source": [
    "pft = PythonToRandomPygmentsFT('print(\"Hi Uma\")', print_style=True)\n",
    "show(pft)"
   ]
  },
  {
   "cell_type": "code",
   "execution_count": null,
   "metadata": {},
   "outputs": [],
   "source": [
    "#| export\n",
    "def NotebookToRandomPygmentsFT(nb):\n",
    "    \"Warning: This gets only code cells, without their output or any other cells\"\n",
    "    cells = get_code_cells(nb)\n",
    "    return cells.map(PythonToRandomPygmentsFT)"
   ]
  },
  {
   "cell_type": "markdown",
   "metadata": {},
   "source": [
    "## FastHTML App"
   ]
  },
  {
   "cell_type": "code",
   "execution_count": null,
   "metadata": {},
   "outputs": [],
   "source": [
    "#| export\n",
    "app,rt = fast_app(pico=False)"
   ]
  },
  {
   "cell_type": "code",
   "execution_count": null,
   "metadata": {},
   "outputs": [
    {
     "data": {
      "text/html": [
       "\n",
       "<script>\n",
       "document.body.addEventListener('htmx:configRequest', (event) => {\n",
       "    if(event.detail.path.includes('://')) return;\n",
       "    htmx.config.selfRequestsOnly=false;\n",
       "    event.detail.path = `${location.protocol}//${location.hostname}:8000${event.detail.path}`;\n",
       "});\n",
       "</script>"
      ],
      "text/plain": [
       "<IPython.core.display.HTML object>"
      ]
     },
     "metadata": {},
     "output_type": "display_data"
    }
   ],
   "source": [
    "server = JupyUvi(app)"
   ]
  },
  {
   "cell_type": "markdown",
   "metadata": {},
   "source": [
    "### Routes and Handlers"
   ]
  },
  {
   "cell_type": "code",
   "execution_count": null,
   "metadata": {},
   "outputs": [],
   "source": [
    "#| export\n",
    "@rt\n",
    "def index():\n",
    "    \"Random Pygments style for each cell\"\n",
    "    nb = read_nb(Path(\"../nbs/deck-the-halls.ipynb\"))\n",
    "    return (\n",
    "        H1(f\"Random Pygments Style For Each Cell\"),\n",
    "        P(\"This page gets a random \",\n",
    "            A(\"Pygments\", href=\"https://pygments.org/\"),\n",
    "            \" HtmlFormatter style for each cell of \",\n",
    "            A(\"my Deck the Halls Jupyter notebook\", href=\"https://nbsanity.com/static/a426287f3fbfc5a38c99291beadc77d3/2024-12-24-deck-the-halls.html\")),\n",
    "        Div(*NotebookToRandomPygmentsFT(nb))\n",
    "    )"
   ]
  },
  {
   "cell_type": "code",
   "execution_count": null,
   "metadata": {},
   "outputs": [],
   "source": [
    "#| export\n",
    "@rt\n",
    "def randstyle():\n",
    "    \"Random Pygments style upon refresh\"\n",
    "    nb = read_nb(Path(\"../nbs/deck-the-halls.ipynb\"))\n",
    "    code_cells = get_code_cells(nb)\n",
    "    style = choice(pygstyles)\n",
    "    fm = HtmlFormatter(style=style)\n",
    "    return (\n",
    "        H1(f\"Random style: {style}\"),\n",
    "        P(\"This page gets a random \",\n",
    "            A(\"Pygments\", href=\"https://pygments.org/\"),\n",
    "            \" HtmlFormatter style and applies it to \",\n",
    "            A(\"my Deck the Halls Jupyter notebook\", href=\"https://nbsanity.com/static/a426287f3fbfc5a38c99291beadc77d3/2024-12-24-deck-the-halls.html\")),\n",
    "        Div(*NotebookToPygmentsFT(nb, style=style))\n",
    "    )"
   ]
  },
  {
   "cell_type": "markdown",
   "metadata": {},
   "source": [
    "## Stop Server"
   ]
  },
  {
   "cell_type": "code",
   "execution_count": null,
   "metadata": {},
   "outputs": [],
   "source": [
    "if 'server' in globals(): server.stop()"
   ]
  },
  {
   "cell_type": "markdown",
   "metadata": {},
   "source": [
    "## Export"
   ]
  },
  {
   "cell_type": "code",
   "execution_count": null,
   "metadata": {},
   "outputs": [],
   "source": [
    "#| hide\n",
    "import nbdev; nbdev.nbdev_export()"
   ]
  },
  {
   "cell_type": "code",
   "execution_count": null,
   "metadata": {},
   "outputs": [],
   "source": []
  }
 ],
 "metadata": {
  "kernelspec": {
   "display_name": "python3",
   "language": "python",
   "name": "python3"
  }
 },
 "nbformat": 4,
 "nbformat_minor": 4
}
