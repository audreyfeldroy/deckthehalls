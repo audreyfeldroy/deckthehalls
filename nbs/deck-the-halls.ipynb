{
 "cells": [
  {
   "cell_type": "markdown",
   "id": "6c0b43cc",
   "metadata": {},
   "source": [
    "# Deck the Halls"
   ]
  },
  {
   "cell_type": "code",
   "execution_count": null,
   "id": "2c5c8d57",
   "metadata": {},
   "outputs": [],
   "source": [
    "from fastcore.all import *"
   ]
  },
  {
   "cell_type": "code",
   "execution_count": null,
   "id": "a31573bc",
   "metadata": {},
   "outputs": [
    {
     "data": {
      "text/plain": [
       "'Deck the halls with boughs of holly'"
      ]
     },
     "execution_count": null,
     "metadata": {},
     "output_type": "execute_result"
    }
   ],
   "source": [
    "x = \"Deck the halls with boughs of holly\"\n",
    "x"
   ]
  },
  {
   "cell_type": "code",
   "execution_count": null,
   "id": "f66cd4ca",
   "metadata": {},
   "outputs": [
    {
     "data": {
      "text/plain": [
       "(#8) ['la','la','la','la','la','la','la','la']"
      ]
     },
     "execution_count": null,
     "metadata": {},
     "output_type": "execute_result"
    }
   ],
   "source": [
    "L(\"la\")*8"
   ]
  },
  {
   "cell_type": "code",
   "execution_count": null,
   "id": "5679e31d",
   "metadata": {},
   "outputs": [],
   "source": [
    "def sing(): return L(\"Fa\", *L(\"la\")*8)"
   ]
  },
  {
   "cell_type": "code",
   "execution_count": null,
   "id": "f7a31a21",
   "metadata": {},
   "outputs": [
    {
     "data": {
      "text/plain": [
       "(#9) ['Fa','la','la','la','la','la','la','la','la']"
      ]
     },
     "execution_count": null,
     "metadata": {},
     "output_type": "execute_result"
    }
   ],
   "source": [
    "sing()"
   ]
  },
  {
   "cell_type": "code",
   "execution_count": null,
   "id": "8814096d",
   "metadata": {},
   "outputs": [
    {
     "name": "stdout",
     "output_type": "stream",
     "text": [
      "Tis the season to be jolly\n"
     ]
    }
   ],
   "source": [
    "print(\"Tis the season to be jolly\")"
   ]
  },
  {
   "cell_type": "code",
   "execution_count": null,
   "id": "80737234",
   "metadata": {},
   "outputs": [
    {
     "data": {
      "text/plain": [
       "'Fa la la la la la la la la'"
      ]
     },
     "execution_count": null,
     "metadata": {},
     "output_type": "execute_result"
    }
   ],
   "source": [
    "\" \".join(sing())"
   ]
  },
  {
   "cell_type": "code",
   "execution_count": null,
   "id": "5ba2904c",
   "metadata": {},
   "outputs": [
    {
     "data": {
      "text/plain": [
       "\"'Don we now our gay apparel'\""
      ]
     },
     "execution_count": null,
     "metadata": {},
     "output_type": "execute_result"
    }
   ],
   "source": [
    "repr(\"Don we now our gay apparel\")"
   ]
  },
  {
   "cell_type": "code",
   "execution_count": null,
   "id": "d94365b6",
   "metadata": {},
   "outputs": [
    {
     "data": {
      "text/plain": [
       "(#9) ['Fa','la','la','la','la','la','la','la','la']"
      ]
     },
     "execution_count": null,
     "metadata": {},
     "output_type": "execute_result"
    }
   ],
   "source": [
    "s = sing()\n",
    "s"
   ]
  },
  {
   "cell_type": "code",
   "execution_count": null,
   "id": "159e7dc1",
   "metadata": {},
   "outputs": [
    {
     "data": {
      "text/plain": [
       "'Falala'"
      ]
     },
     "execution_count": null,
     "metadata": {},
     "output_type": "execute_result"
    }
   ],
   "source": [
    "\"\".join(s[0:3])"
   ]
  },
  {
   "cell_type": "code",
   "execution_count": null,
   "id": "1c60d90d",
   "metadata": {},
   "outputs": [
    {
     "name": "stdout",
     "output_type": "stream",
     "text": [
      "Falala\n",
      "lalala\n",
      "lalala\n"
     ]
    }
   ],
   "source": [
    "for i in range(0,3): print(\"\".join(s[i:i+3]))"
   ]
  },
  {
   "cell_type": "code",
   "execution_count": null,
   "id": "9e2e2d82",
   "metadata": {},
   "outputs": [
    {
     "data": {
      "text/plain": [
       "'Troll the ancient yuletide carol'"
      ]
     },
     "execution_count": null,
     "metadata": {},
     "output_type": "execute_result"
    }
   ],
   "source": [
    "\"Troll the ancient yuletide carol\""
   ]
  },
  {
   "cell_type": "code",
   "execution_count": null,
   "id": "1dcfca68",
   "metadata": {},
   "outputs": [
    {
     "data": {
      "text/plain": [
       "(#5) [('Fa', 'la'),('la', 'la'),('la', 'la'),('la', 'la'),'la']"
      ]
     },
     "execution_count": null,
     "metadata": {},
     "output_type": "execute_result"
    }
   ],
   "source": [
    "L(zip(s[0:5], s[1:5])) + 'la'"
   ]
  }
 ],
 "metadata": {
  "kernelspec": {
   "display_name": "python3",
   "language": "python",
   "name": "python3"
  }
 },
 "nbformat": 4,
 "nbformat_minor": 5
}
